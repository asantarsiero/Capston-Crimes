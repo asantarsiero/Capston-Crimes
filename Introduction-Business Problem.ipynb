{
 "cells": [
  {
   "cell_type": "markdown",
   "metadata": {},
   "source": [
    "# Capstone Project - Wisconsin House\n",
    "<b>Author:</b> Antonio Santarsiero <br>\n",
    "<b>Date:</b> March 13th, 2020"
   ]
  },
  {
   "cell_type": "markdown",
   "metadata": {},
   "source": [
    "## Introduction/Business Problem"
   ]
  },
  {
   "cell_type": "markdown",
   "metadata": {},
   "source": [
    "This project will help residents of the Chicago metropolitan area decide where it is most desirable to buy a <b>lake house</b> in the southern part of Wisconsin. Data regarding proximity of venues like restaurants, grocery stores, hospitals, and so on, will help them make an <i>informed</i> decision."
   ]
  }
 ],
 "metadata": {
  "kernelspec": {
   "display_name": "Python 3",
   "language": "python",
   "name": "python3"
  },
  "language_info": {
   "codemirror_mode": {
    "name": "ipython",
    "version": 3
   },
   "file_extension": ".py",
   "mimetype": "text/x-python",
   "name": "python",
   "nbconvert_exporter": "python",
   "pygments_lexer": "ipython3",
   "version": "3.7.6"
  }
 },
 "nbformat": 4,
 "nbformat_minor": 4
}
